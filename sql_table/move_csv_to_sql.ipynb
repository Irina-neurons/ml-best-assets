{
 "cells": [
  {
   "cell_type": "markdown",
   "metadata": {},
   "source": [
    "## Create SQL table"
   ]
  },
  {
   "cell_type": "code",
   "execution_count": null,
   "metadata": {},
   "outputs": [],
   "source": [
    "import pandas as pd\n",
    "import sqlalchemy\n",
    "from utils_sql import get_connection, get_thresholds_df, update_create_table, query_metrics_table\n",
    "from sqlalchemy import text, Table, Column, String, Integer, Float, MetaData, PrimaryKeyConstraint\n",
    "\n",
    "img_benchmarks = \"image_nvai_benchmarks\"\n",
    "img_metrics = \"image_nvai_metrics\"\n",
    "vid_benchmarks = \"video_nvai_benchmarks\"\n",
    "vid_metrics = \"video_nvai_metrics\"\n",
    "\n",
    "FILES_PATH = \"/Users/irinakw/Library/CloudStorage/GoogleDrive-i.white@neuronsinc.com/Shared drives/HQ - R&D/Benchmark Documents/sql_tables_files/\"\n",
    "\n",
    "data_img_benchmarks_path = FILES_PATH + 'img_benchmarks_jan2025.csv'\n",
    "data_img_metrics_path = FILES_PATH + 'img_metrics_jan2025.csv'\n",
    "\n",
    "data_vid_benchmarks_path = FILES_PATH + 'vid_benchmarks_jan2025.csv'\n",
    "data_vid_metrics_path = FILES_PATH + 'vid_metrics_jan2025.csv'"
   ]
  },
  {
   "cell_type": "code",
   "execution_count": null,
   "metadata": {},
   "outputs": [],
   "source": [
    "# Create SQLAlchemy engine\n",
    "engine = sqlalchemy.create_engine(\n",
    "    \"postgresql+pg8000://\",\n",
    "    creator=get_connection\n",
    ")\n"
   ]
  },
  {
   "cell_type": "code",
   "execution_count": null,
   "metadata": {},
   "outputs": [],
   "source": [
    "# Create dinamic dropdown values\n",
    "def get_dropdown_values(table_name, column_name):\n",
    "    query = f\"SELECT DISTINCT {column_name} FROM {table_name}\"\n",
    "    with engine.connect() as connection:\n",
    "        result = connection.execute(query)\n",
    "        result = result.fetchall()\n",
    "    return [r[0] for r in result]\n",
    "\n",
    "# given 7 columns, when one value of the column is changed, the other columns are updated\n",
    "initial_values = {\n",
    "        \"industry_category\": ['all'],\n",
    "        \"industry_subcategory\": ['all'],\n",
    "        \"usecase_category\": ['all'],\n",
    "        \"usecase_subcategory\": ['all'],\n",
    "        \"platform\": ['all', 'facebook_ads', 'instagram_ads', 'not_applicable', 'twitter_ads'],\n",
    "        \"device\": ['all', 'desktop', 'mobile', 'not_applicable'],\n",
    "        \"context\": ['all', 'no', 'yes'],\n",
    "    },"
   ]
  },
  {
   "cell_type": "markdown",
   "metadata": {},
   "source": [
    "### DATABASE QUERY"
   ]
  },
  {
   "cell_type": "code",
   "execution_count": null,
   "metadata": {},
   "outputs": [],
   "source": [
    "filters = {\n",
    "    \"industry_category\": \"all\",\n",
    "    \"industry_subcategory\": \"all\",\n",
    "    \"usecase_category\": \"all\",\n",
    "    \"usecase_subcategory\": \"all\",\n",
    "    \"platform\": \"youtube_ads\",\n",
    "    \"device\": \"all\",\n",
    "    \"context\": \"no\",\n",
    "    \"metric\": [\"focus\", \"engagement_frt\", \"memory\",\"cognitive_demand\"],\n",
    "    \"time\": \"total\"\n",
    "}"
   ]
  },
  {
   "cell_type": "code",
   "execution_count": null,
   "metadata": {},
   "outputs": [],
   "source": [
    "df=query_metrics_table(engine, \"Image\", **filters)\n",
    "threshold_df = get_thresholds_df(engine, \"Image\", get_filters=filters)\n",
    "THRESHOLDS = threshold_df.set_index(\"metric\")[\"threshold\"].to_dict()\n",
    "THRESHOLDS\n"
   ]
  },
  {
   "cell_type": "code",
   "execution_count": null,
   "metadata": {},
   "outputs": [],
   "source": [
    "threshold_df"
   ]
  },
  {
   "cell_type": "code",
   "execution_count": null,
   "metadata": {},
   "outputs": [],
   "source": []
  },
  {
   "cell_type": "markdown",
   "metadata": {},
   "source": [
    "# UPDATE DATA in SQL DATABASES"
   ]
  },
  {
   "cell_type": "code",
   "execution_count": null,
   "metadata": {},
   "outputs": [],
   "source": [
    "mutual_key_columns = [\n",
    "            \"industry_category\", \"industry_subcategory\", \"usecase_category\",\n",
    "            \"usecase_subcategory\", \"platform\", \"device\", \"context\",\n",
    "            \"metric\", \"time\"\n",
    "        ]\n",
    "benchmarks_key_columns = mutual_key_columns + [\"type\"]\n",
    "metrics_key_columns = mutual_key_columns + [\"asset_id\"]\n",
    "\n",
    "update_create_table(engine, table_name=vid_benchmarks, csv_file_path = data_vid_benchmarks_path, primary_key_columns = benchmarks_key_columns)\n",
    "update_create_table(engine, table_name=vid_metrics, csv_file_path = data_vid_metrics_path, primary_key_columns = metrics_key_columns)\n",
    "update_create_table(engine, table_name=img_benchmarks, csv_file_path = data_img_benchmarks_path, primary_key_columns = benchmarks_key_columns)  \n",
    "update_create_table(engine, table_name=img_metrics, csv_file_path = data_img_metrics_path, primary_key_columns = metrics_key_columns)"
   ]
  },
  {
   "cell_type": "code",
   "execution_count": null,
   "metadata": {},
   "outputs": [],
   "source": [
    "####### BASH CODE TO COPY CSV DATA FROM LOCAL TO CLOUD SQL #######\n",
    "##################################################################\n",
    "\n",
    "# % gcloud auth print-access-token  \n",
    "# use the above for password  below\n",
    "# % psql -h 127.0.0.1 -U i.white@neuronsinc.com -d assets-experiment\n",
    "\n",
    "# assets-experiment=> SELECT current_user, current_database();\n",
    "#       current_user      | current_database  \n",
    "# ------------------------+-------------------\n",
    "#  i.white@neuronsinc.com | assets-experiment\n",
    "# (1 row)\n",
    "\n",
    "# assets-experiment=> SELECT table_name FROM information_schema.tables WHERE table_schema = 'public';\n",
    "\n",
    "# assets-experiment=> SELECT COUNT(*) FROM public.data_vid_benchmarks;\n",
    "\n",
    "# assets-experiment=> GRANT INSERT ON TABLE public.data_vid_benchmarks TO \"i.white@neuronsinc.com\";\n",
    "\n",
    "# assets-experiment=> \\copy public.video_nvai_metrics (\n",
    "#     asset_id,industry_category,industry_subcategory,usecase_category,usecase_subcategory,platform,device,context,path_bucket,metric,value,time\n",
    "# ) \n",
    "# FROM 'sql_table/vid_metrics_jan2025_missing_rows.csv' \n",
    "# DELIMITER ',' \n",
    "# CSV HEADER;\n",
    "\n",
    "\n",
    "#### ERROR\n",
    "# psql: error: connection to server at \"127.0.0.1\", port 5432 failed: Connection refused\n",
    "#         Is the server running on that host and accepting TCP/IP connections?\n",
    "\n",
    "# cloud_sql_proxy -instances=neurons-development:us-central1:nh-staging-db-instance=tcp:5432\n",
    "# % lsof -i :5432  (open new terminal)\n"
   ]
  },
  {
   "cell_type": "markdown",
   "metadata": {},
   "source": [
    "### IMAGES"
   ]
  },
  {
   "cell_type": "code",
   "execution_count": null,
   "metadata": {},
   "outputs": [],
   "source": [
    "filters = {\n",
    "    \"industry_category\": \"all\",\n",
    "    \"industry_subcategory\": \"all\",\n",
    "    \"usecase_category\": \"all\",\n",
    "    \"usecase_subcategory\": \"all\",\n",
    "    \"platform\": \"youtube_ads\",\n",
    "    \"device\": \"all\",\n",
    "    \"context\": \"no\",\n",
    "    \"metric\": [\"focus\", \"engagement_frt\", \"memory\",\"cognitive_demand\"],\n",
    "    \"time\": \"total\"\n",
    "}\n",
    "\n",
    "thresholds_df = get_thresholds_df(engine, 'Video', get_filters=filters)\n",
    "thresholds_df"
   ]
  },
  {
   "cell_type": "code",
   "execution_count": null,
   "metadata": {},
   "outputs": [],
   "source": [
    "query_metrics_table(engine, 'Video', **filters)\n"
   ]
  },
  {
   "cell_type": "code",
   "execution_count": null,
   "metadata": {},
   "outputs": [],
   "source": [
    "def run_query(engine, query):\n",
    "    \"\"\"\n",
    "    Query the metrics table based on the dinamically provided filters.\n",
    "    When filter is ALL it will return all the values.\n",
    "    \"\"\"\n",
    "    with engine.connect() as conn:\n",
    "        metrics_df = pd.read_sql(query, conn)\n",
    "    return metrics_df\n",
    "\n",
    "query_benchmark = text(f\"\"\"\n",
    "    SELECT *\n",
    "    FROM {\"video_nvai_benchmarks\"}\n",
    "    WHERE \"platform\" LIKE 'dailymotion_ads'\n",
    "\"\"\")\n",
    "\n",
    "query_metrics = text(f\"\"\"\n",
    "    SELECT *\n",
    "    FROM {\"video_nvai_metrics\"}\n",
    "    WHERE \"platform\" LIKE 'dailymotion_ads'\n",
    "\"\"\")\n",
    "\n",
    "run_query(engine, query=query_benchmark ).head()"
   ]
  },
  {
   "cell_type": "code",
   "execution_count": null,
   "metadata": {},
   "outputs": [],
   "source": [
    "run_query(engine, query=query_metrics ).head()"
   ]
  }
 ],
 "metadata": {
  "kernelspec": {
   "display_name": ".venv",
   "language": "python",
   "name": "python3"
  },
  "language_info": {
   "codemirror_mode": {
    "name": "ipython",
    "version": 3
   },
   "file_extension": ".py",
   "mimetype": "text/x-python",
   "name": "python",
   "nbconvert_exporter": "python",
   "pygments_lexer": "ipython3",
   "version": "3.10.11"
  }
 },
 "nbformat": 4,
 "nbformat_minor": 2
}
