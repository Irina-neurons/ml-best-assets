{
 "cells": [
  {
   "cell_type": "markdown",
   "metadata": {},
   "source": [
    "## Create SQL table"
   ]
  },
  {
   "cell_type": "code",
   "execution_count": 24,
   "metadata": {},
   "outputs": [],
   "source": [
    "import pandas as pd\n",
    "from google.cloud.sql.connector import Connector\n",
    "import sqlalchemy\n",
    "from utils_sql import *\n",
    "from sqlalchemy import text, Table, Column, String, Integer, Float, MetaData, PrimaryKeyConstraint\n",
    "import pyodbc\n",
    "\n",
    "img_benchmark = \"image_nvai_benchmarks\"\n",
    "img_metrics = \"image_nvai_metrics\"\n",
    "vid_benchmarks = \"video_nvai_benchmarks\"\n",
    "vid_metrics = \"video_nvai_metrics\""
   ]
  },
  {
   "cell_type": "code",
   "execution_count": 25,
   "metadata": {},
   "outputs": [],
   "source": [
    "BENCHMARK_PATH = \"/Users/irinakw/Library/CloudStorage/GoogleDrive-i.white@neuronsinc.com/Shared drives/HQ - R&D/Benchmark Documents/\"\n",
    "\n",
    "data_img_benchmarks = pd.read_csv(BENCHMARK_PATH + f'Master Sheets/Benchmark CSVs/insights_image_level_newmetrics.csv')\n",
    "data_img_metrics = pd.read_csv(BENCHMARK_PATH + 'eng_mem_images_total_metrics.csv')\n",
    "\n",
    "data_vid_benchmarks = pd.read_csv(BENCHMARK_PATH + f'Master Sheets/Benchmark CSVs/insights_video_level_newmetrics.csv')\n",
    "data_vid_metrics = pd.read_csv(BENCHMARK_PATH + 'eng_mem_videos_total_metrics.csv')"
   ]
  },
  {
   "cell_type": "code",
   "execution_count": 31,
   "metadata": {},
   "outputs": [],
   "source": [
    "def infer_sqlalchemy_types(df):\n",
    "    type_mapping = {\n",
    "        \"int64\": Integer,\n",
    "        \"float64\": Float,\n",
    "        \"object\": String,\n",
    "        \"datetime64[ns]\": String,  # You can use DateTime if required\n",
    "        \"bool\": Integer,  # Convert boolean to Integer (0/1)\n",
    "    }\n",
    "    column_types = {}\n",
    "    for col, dtype in df.dtypes.items():\n",
    "        dtype_str = str(dtype)\n",
    "        column_types[col] = type_mapping.get(dtype_str, String)  # Default to String\n",
    "    return column_types\n",
    "\n",
    "def list_all_tables(conn):\n",
    "    query = \"SELECT table_name FROM information_schema.tables WHERE table_schema = 'public';\"\n",
    "    return conn.execute(text(query)).fetchall()"
   ]
  },
  {
   "cell_type": "code",
   "execution_count": 30,
   "metadata": {},
   "outputs": [],
   "source": [
    "# Create SQLAlchemy engine\n",
    "engine = sqlalchemy.create_engine(\n",
    "    \"postgresql+pg8000://\",\n",
    "    creator=get_connection\n",
    ")"
   ]
  },
  {
   "cell_type": "code",
   "execution_count": 33,
   "metadata": {},
   "outputs": [
    {
     "name": "stdout",
     "output_type": "stream",
     "text": [
      "Tables in the database: ['data_vid_benchmarks', 'image_nvai_benchmarks']\n"
     ]
    }
   ],
   "source": [
    "metadata = MetaData()\n",
    "column_types = infer_sqlalchemy_types(data_vid_benchmarks)\n",
    "vid_benchmarks = Table(\n",
    "    \"data_vid_benchmarks\",\n",
    "    metadata,\n",
    "    *[\n",
    "        Column(col, col_type) for col, col_type in column_types.items()\n",
    "    ],\n",
    "    PrimaryKeyConstraint(\n",
    "        \"industry_category\", \"industry_subcategory\", \"usecase_category\",\n",
    "        \"usecase_subcategory\", \"platform\", \"device\", \"context\",\n",
    "        \"metric\", \"time\", \"type\"\n",
    "    )\n",
    ")\n",
    "metadata.create_all(engine)\n",
    "inspector = sqlalchemy.inspect(engine)\n",
    "tables = inspector.get_table_names()\n",
    "print(\"Tables in the database:\", tables)"
   ]
  },
  {
   "cell_type": "code",
   "execution_count": 43,
   "metadata": {},
   "outputs": [
    {
     "name": "stdout",
     "output_type": "stream",
     "text": [
      "DRIVER=PostgreSQL Unicode;SERVER=127.0.0.1;PORT=5432;DATABASE=assets-experiment;UID=i.white@neuronsinc.com;PWD=\n",
      "Connection successful!\n"
     ]
    }
   ],
   "source": [
    "DB_CONFIG = {\n",
    "    \"DRIVER\": \"PostgreSQL Unicode\",\n",
    "    \"SERVER\": \"127.0.0.1\",\n",
    "    \"PORT\": \"5432\",\n",
    "    \"DATABASE\": \"assets-experiment\",\n",
    "    \"UID\": \"i.white@neuronsinc.com\",\n",
    "    \"PWD\": \"\",\n",
    "}\n",
    "\n",
    "# Create a connection and a cursor\n",
    "conn_string = \";\".join([f\"{key}={value}\" for key, value in DB_CONFIG.items()])\n",
    "print(conn_string)\n",
    "conn = pyodbc.connect(conn_string)\n",
    "cursor = conn.cursor()\n",
    "print(\"Connection successful!\")\n",
    "\n",
    "query = \"\"\"\n",
    "SELECT table_name\n",
    "FROM information_schema.tables\n",
    "WHERE table_schema = 'public';\n",
    "\"\"\"\n",
    "\n",
    "cursor.execute(query)\n",
    "tables = [row[0] for row in cursor.fetchall()]\n",
    "for _ in tables:\n",
    "    print(_)"
   ]
  },
  {
   "cell_type": "code",
   "execution_count": 44,
   "metadata": {},
   "outputs": [
    {
     "name": "stdout",
     "output_type": "stream",
     "text": [
      "Tables in the database:\n",
      "data_vid_benchmarks\n",
      "image_nvai_benchmarks\n"
     ]
    }
   ],
   "source": [
    "with engine.connect() as conn:\n",
    "    # Use `text` to create an executable SQL statement\n",
    "    query = text(\"\"\"\n",
    "        SELECT table_name\n",
    "        FROM information_schema.tables\n",
    "        WHERE table_schema = 'public';\n",
    "    \"\"\")\n",
    "    result = conn.execute(query)\n",
    "    print(\"Tables in the database:\")\n",
    "    for row in result:\n",
    "        print(row[0])"
   ]
  },
  {
   "cell_type": "code",
   "execution_count": null,
   "metadata": {},
   "outputs": [],
   "source": []
  },
  {
   "cell_type": "code",
   "execution_count": 37,
   "metadata": {},
   "outputs": [
    {
     "name": "stdout",
     "output_type": "stream",
     "text": [
      "Number of rows in the file img_benchmarks: 87320\n",
      "Number of all rows in the table 'image_nvai_benchmarks': 31600\n"
     ]
    }
   ],
   "source": [
    "def count_rows_in_table(engine, table_name):\n",
    "    query = text(f\"\"\"\n",
    "        SELECT COUNT(*) AS row_count\n",
    "        FROM {table_name}\n",
    "    \"\"\")  # Query to count rows in the table\n",
    "    with engine.connect() as conn:\n",
    "        result = conn.execute(query)\n",
    "        row_count = result.scalar()  # Fetch the scalar value (row count)\n",
    "        print(f\"Number of all rows in the table '{table_name}': {row_count}\")\n",
    "\n",
    "print(f\"Number of rows in the file img_benchmarks: {data_img_benchmarks.shape[0]}\")\n",
    "count_rows_in_table(engine, img_benchmark)"
   ]
  },
  {
   "cell_type": "code",
   "execution_count": 35,
   "metadata": {},
   "outputs": [],
   "source": [
    "def update_table(df, table_name):    \n",
    "    print(f\"Number of rows in the CSV file: {len(df)}\")\n",
    "    \n",
    "    # Filter missing rows\n",
    "    comparison_columns = df.columns.tolist()\n",
    "    query = f\"SELECT {', '.join(comparison_columns)} FROM {table_name}\"\n",
    "    cursor.execute(query)\n",
    "    existing_rows = {tuple(row) for row in cursor.fetchall()}  \n",
    "    df[\"composite_key\"] = df[comparison_columns].apply(tuple, axis=1)\n",
    "    df_missing = df[~df[\"composite_key\"].isin(existing_rows)]\n",
    "    df_missing = df_missing.drop(columns=[\"composite_key\"])  # Drop helper column\n",
    "    print(f\"Number of missing rows to add: {len(df_missing)}\")\n",
    "\n",
    "    if len(df_missing) > 0:\n",
    "        # Bulk insert missing rows into the table\n",
    "        for index, row in df_missing.iterrows():\n",
    "            row_values = tuple(row)  # Convert row to a tuple\n",
    "            placeholders = \", \".join([\"?\"] * len(row))  # Prepare placeholders\n",
    "            query = f\"INSERT INTO {table_name} VALUES ({placeholders})\"\n",
    "            cursor.execute(query, row_values)\n",
    "        conn.commit()\n",
    "    else:\n",
    "        print(\"No new rows to add.\")\n",
    "\n",
    "    if conn:\n",
    "        conn.close()\n"
   ]
  },
  {
   "cell_type": "code",
   "execution_count": 36,
   "metadata": {},
   "outputs": [
    {
     "name": "stdout",
     "output_type": "stream",
     "text": [
      "Number of rows in the CSV file: 87320\n"
     ]
    },
    {
     "ename": "ProgrammingError",
     "evalue": "('42P01', '[42P01] ERROR: relation \"image_nvai_benchmarks\" does not exist;\\nError while executing the query (1) (SQLExecDirectW)')",
     "output_type": "error",
     "traceback": [
      "\u001b[0;31m---------------------------------------------------------------------------\u001b[0m",
      "\u001b[0;31mProgrammingError\u001b[0m                          Traceback (most recent call last)",
      "Cell \u001b[0;32mIn[36], line 1\u001b[0m\n\u001b[0;32m----> 1\u001b[0m \u001b[43mupdate_table\u001b[49m\u001b[43m(\u001b[49m\u001b[43mdata_img_benchmarks\u001b[49m\u001b[43m,\u001b[49m\u001b[43m \u001b[49m\u001b[43mimg_benchmark\u001b[49m\u001b[43m)\u001b[49m\n",
      "Cell \u001b[0;32mIn[35], line 7\u001b[0m, in \u001b[0;36mupdate_table\u001b[0;34m(df, table_name)\u001b[0m\n\u001b[1;32m      5\u001b[0m comparison_columns \u001b[38;5;241m=\u001b[39m df\u001b[38;5;241m.\u001b[39mcolumns\u001b[38;5;241m.\u001b[39mtolist()\n\u001b[1;32m      6\u001b[0m query \u001b[38;5;241m=\u001b[39m \u001b[38;5;124mf\u001b[39m\u001b[38;5;124m\"\u001b[39m\u001b[38;5;124mSELECT \u001b[39m\u001b[38;5;132;01m{\u001b[39;00m\u001b[38;5;124m'\u001b[39m\u001b[38;5;124m, \u001b[39m\u001b[38;5;124m'\u001b[39m\u001b[38;5;241m.\u001b[39mjoin(comparison_columns)\u001b[38;5;132;01m}\u001b[39;00m\u001b[38;5;124m FROM \u001b[39m\u001b[38;5;132;01m{\u001b[39;00mtable_name\u001b[38;5;132;01m}\u001b[39;00m\u001b[38;5;124m\"\u001b[39m\n\u001b[0;32m----> 7\u001b[0m \u001b[43mcursor\u001b[49m\u001b[38;5;241;43m.\u001b[39;49m\u001b[43mexecute\u001b[49m\u001b[43m(\u001b[49m\u001b[43mquery\u001b[49m\u001b[43m)\u001b[49m\n\u001b[1;32m      8\u001b[0m existing_rows \u001b[38;5;241m=\u001b[39m {\u001b[38;5;28mtuple\u001b[39m(row) \u001b[38;5;28;01mfor\u001b[39;00m row \u001b[38;5;129;01min\u001b[39;00m cursor\u001b[38;5;241m.\u001b[39mfetchall()}  \n\u001b[1;32m      9\u001b[0m df[\u001b[38;5;124m\"\u001b[39m\u001b[38;5;124mcomposite_key\u001b[39m\u001b[38;5;124m\"\u001b[39m] \u001b[38;5;241m=\u001b[39m df[comparison_columns]\u001b[38;5;241m.\u001b[39mapply(\u001b[38;5;28mtuple\u001b[39m, axis\u001b[38;5;241m=\u001b[39m\u001b[38;5;241m1\u001b[39m)\n",
      "\u001b[0;31mProgrammingError\u001b[0m: ('42P01', '[42P01] ERROR: relation \"image_nvai_benchmarks\" does not exist;\\nError while executing the query (1) (SQLExecDirectW)')"
     ]
    }
   ],
   "source": [
    "update_table(data_img_benchmarks, img_benchmark)\n"
   ]
  },
  {
   "cell_type": "markdown",
   "metadata": {},
   "source": [
    "### IMAGES"
   ]
  },
  {
   "cell_type": "code",
   "execution_count": null,
   "metadata": {},
   "outputs": [],
   "source": [
    "DESIRED_INDUSTRY = 'all'\n",
    "DESIRED_SUBINDUSTRY = 'all'\n",
    "DESIRED_USECASE = 'digital_ads'\n",
    "DESIRED_SUBUSECASE = 'out_of_home_ads'\n",
    "DESIRED_PLATFORM = []  \n",
    "\n",
    "query_img_benchmarks(\n",
    "    engine, usecase_category=DESIRED_USECASE\n",
    ")\n"
   ]
  }
 ],
 "metadata": {
  "kernelspec": {
   "display_name": "Python 3",
   "language": "python",
   "name": "python3"
  },
  "language_info": {
   "codemirror_mode": {
    "name": "ipython",
    "version": 3
   },
   "file_extension": ".py",
   "mimetype": "text/x-python",
   "name": "python",
   "nbconvert_exporter": "python",
   "pygments_lexer": "ipython3",
   "version": "3.10.11"
  }
 },
 "nbformat": 4,
 "nbformat_minor": 2
}
